{
 "cells": [
  {
   "cell_type": "code",
   "execution_count": 1,
   "id": "b03025ae",
   "metadata": {},
   "outputs": [],
   "source": [
    "import numpy as np\n",
    "import matplotlib.pyplot as plt\n",
    "from sdes.sdes import SDE, OrnsteinUhlenbeck, BrownianMotion\n",
    "from sdes.auxiliary_bridges import DelyonHuBridge"
   ]
  },
  {
   "cell_type": "code",
   "execution_count": 2,
   "id": "8bdac400",
   "metadata": {},
   "outputs": [],
   "source": [
    "def plot_simulations(X, t_start = 0., end_point=True):\n",
    "    fig, ax = plt.subplots()\n",
    "    names = X.dtype.names if end_point else X.dtype.names[:-1]\n",
    "    t_s = [float(name) + t_start for name in names]\n",
    "    data = np.stack([X[name] for name in names])\n",
    "    ax.plot(t_s, data)\n",
    "    return fig, ax\n",
    "\n",
    "def struct_array_to_array(A):\n",
    "    return np.array([A[name][0] for name in A.dtype.names])\n",
    "\n",
    "def check_struct_array_equal(X_1, X_2):\n",
    "    names = X_1.dtype.names\n",
    "    check_array_equal = lambda x, y: np.all(np.isclose(x, y))\n",
    "    check_list = [check_array_equal(X_1[name], X_2[name]) for name in names]\n",
    "    return np.all(check_list)"
   ]
  },
  {
   "cell_type": "markdown",
   "id": "8b8d4b6c",
   "metadata": {},
   "source": [
    "In this notebook, we apply various tests to the auxiliary bridge transforms $F_{t', t''}^{(DH)}(x_{t'}, x_{t''},\\quad  \\cdot  \\quad )$ and its inverse that are used in the implementation of the SMC-based algorithms that are designed on pathspace."
   ]
  },
  {
   "cell_type": "markdown",
   "id": "d44a2143",
   "metadata": {},
   "source": [
    "Assuming that the particles are stored in $Z, X$ form:\n",
    "\n",
    "The map $F$ is needed to:\n",
    "\n",
    "- Generate simulations from the kernel $P_i[dx_i, x_{i-1}]$ when using a bootstrap formalism.\n",
    "\n",
    "The map $F^{-1}$ is used for \n",
    "\n",
    "- Translate the final particles into simulations from SDEs once the inference algorithm has been run.\n",
    "- Evaluating the (log) density of the bridge (required for smoothing algorithms when using bootstrap and in the particle filter when using guided)"
   ]
  },
  {
   "cell_type": "markdown",
   "id": "603960e2",
   "metadata": {},
   "source": [
    "We will use as a particular running example the Ornstein-Uhlenbeck SDE from $t'=1$ to $t''=2$. We will pick reasonable values of $x_{t'}$ and $x_{t''}$ based on simulation. \n",
    "\n",
    "- Setup an auxiliary SDE. Generate simulations from the auxiliary SDE.\n",
    "    - Amend the code of the auxiliary SDE simulators so that it is possible for the simulations to end at the correct point.\n",
    "- Demonstrate the utility of the $F$ map by applying it to the simulated functions.\n"
   ]
  },
  {
   "cell_type": "markdown",
   "id": "6a2ebbf0",
   "metadata": {},
   "source": [
    "# Test 1 - Auxiliary Bridge transform for single $x_s$, $x_t$"
   ]
  },
  {
   "cell_type": "markdown",
   "id": "ec8222e1",
   "metadata": {},
   "source": [
    "We work with the univariate Ornstein-Uhlenbeck process as as the running example, which is defined by the following SDE:\n",
    "\n",
    "$$dX_t = \\rho(\\mu - X_t)dt + \\phi dW_t$$\n",
    "\n",
    "Thus, the drift coefficient of this SDE is $b(t, x) = \\rho(\\mu - x)$ and the the diffusion coefficient is given by $\\sigma(t, x) = \\phi$.\n",
    "\n",
    "Using Stochastic Calculus, this SDE can be solved analytically, and has solution:\n",
    "\n",
    "$$X_t = X_0 e^{-\\rho t} + \\mu(1 - e^{-\\rho t}) + \\phi \\int_0^t e^{-\\rho (t-s)}dW_s$$\n",
    "\n",
    "Thus, the mean function of the process are given by:\n",
    "\n",
    "$$E[X_t|X_0] = X_0 e^{-\\rho t} + \\mu(1 - e^{-\\rho t})$$\n",
    "\n",
    "The parameter (vector) of the SDE is given by $\\theta = (\\rho,\\phi, \\mu)$. We let $\\theta = (1, 0, 0.2)$ and we let $X_0=2$:"
   ]
  },
  {
   "cell_type": "code",
   "execution_count": 3,
   "id": "cad169d3",
   "metadata": {},
   "outputs": [],
   "source": [
    "rho = 1.; mu = 0.; phi = 0.2; x_0 = 2.\n",
    "\n",
    "ou_sde_params = {'rho': rho,\n",
    "                 'mu': mu,\n",
    "                 'phi': phi\n",
    "                  }\n",
    "\n",
    "ou_sde = OrnsteinUhlenbeck(**ou_sde_params)"
   ]
  },
  {
   "cell_type": "markdown",
   "id": "48cbeed2",
   "metadata": {},
   "source": [
    "The stochastic differential equation given above, for any fixed values of $t'$, $t''$, $x_{t'}$ and $x_{t''}$ implies a particular conditional distribution of a bridge $\\mathbb{P}_{x_{t'}, x_{t''}}^{t', t''}$. This conditional distribution of a bridge is equivalent to the distribution of the solution of the (Delyon and Hu) auxiliary bridge SDE given by:\n",
    "\n",
    "$$d\\tilde{X}_t = \\bigg[b(t+t', \\tilde{X}_t) + \\frac{x_{t''} - \\tilde{X}_t}{\\Delta t-t}\\bigg]dt + \\sigma(t+t', \\tilde{X}_t)dW_t$$\n",
    "\n",
    "With starting point $\\tilde{X}_0 = x_{t'}$ and end point in time $\\Delta t = t'' - t'$. This distribution is denoted $\\mathbb{Q}_{x_{t'}, x_{t''}}^{t', t''}$. Both distributions $\\mathbb{P}_{x_{t'}, x_{t''}}^{t', t''}$ and $\\mathbb{Q}_{x_{t'}, x_{t''}}^{t', t''}$ will start at $x_{t'}$ and end at $x_{t''}$ with probability 1.\n",
    "\n",
    "For our particular example, we set $t'=1$, $t''=2$, $x_1 = e^{-1}$ and $x_2 = e^{-2}$."
   ]
  },
  {
   "cell_type": "markdown",
   "id": "d76ee92e",
   "metadata": {},
   "source": [
    "We can construct this implied auxiliary bridge SDE from the original SDE as follows:"
   ]
  },
  {
   "cell_type": "code",
   "execution_count": 4,
   "id": "2b92d185",
   "metadata": {},
   "outputs": [],
   "source": [
    "t_start = 1.; t_end = 2;\n",
    "\n",
    "bridge_1_kwargs = {'t_start': t_start,\n",
    "                 't_end': t_end,\n",
    "                 'x_end': x_0*np.exp(-rho*t_end)\n",
    "                }\n",
    "dh_bridge_1 = DelyonHuBridge(ou_sde, **bridge_1_kwargs)"
   ]
  },
  {
   "cell_type": "markdown",
   "id": "13791139",
   "metadata": {},
   "source": [
    "This constructed bridge is an instance of the class `AuxiliaryBridge` which is an instance of the class `SDE`. Therefore, it is possible to generate simulations and construct distribution objects for this auxiliary SDE."
   ]
  },
  {
   "cell_type": "code",
   "execution_count": 5,
   "id": "a4d5d545",
   "metadata": {},
   "outputs": [
    {
     "ename": "TypeError",
     "evalue": "AuxiliaryBridge.simulate() got an unexpected keyword argument 't_start'",
     "output_type": "error",
     "traceback": [
      "\u001b[0;31m---------------------------------------------------------------------------\u001b[0m",
      "\u001b[0;31mTypeError\u001b[0m                                 Traceback (most recent call last)",
      "Cell \u001b[0;32mIn[5], line 6\u001b[0m\n\u001b[1;32m      1\u001b[0m dh_bridge_1_sim_kwargs \u001b[38;5;241m=\u001b[39m {\u001b[38;5;124m'\u001b[39m\u001b[38;5;124mt_start\u001b[39m\u001b[38;5;124m'\u001b[39m: \u001b[38;5;241m0.0\u001b[39m,\n\u001b[1;32m      2\u001b[0m                         \u001b[38;5;124m'\u001b[39m\u001b[38;5;124mt_end\u001b[39m\u001b[38;5;124m'\u001b[39m: t_end \u001b[38;5;241m-\u001b[39m t_start,\n\u001b[1;32m      3\u001b[0m                         \u001b[38;5;124m'\u001b[39m\u001b[38;5;124mx_start\u001b[39m\u001b[38;5;124m'\u001b[39m: x_0\u001b[38;5;241m*\u001b[39mnp\u001b[38;5;241m.\u001b[39mexp(\u001b[38;5;241m-\u001b[39mrho\u001b[38;5;241m*\u001b[39mt_start),\n\u001b[1;32m      4\u001b[0m                         \u001b[38;5;124m'\u001b[39m\u001b[38;5;124mnum\u001b[39m\u001b[38;5;124m'\u001b[39m: \u001b[38;5;241m1000\u001b[39m}\n\u001b[0;32m----> 6\u001b[0m dh_bridge_1_sims \u001b[38;5;241m=\u001b[39m \u001b[43mdh_bridge_1\u001b[49m\u001b[38;5;241;43m.\u001b[39;49m\u001b[43msimulate\u001b[49m\u001b[43m(\u001b[49m\u001b[43msize\u001b[49m\u001b[38;5;241;43m=\u001b[39;49m\u001b[38;5;241;43m10\u001b[39;49m\u001b[43m,\u001b[49m\u001b[43m \u001b[49m\u001b[38;5;241;43m*\u001b[39;49m\u001b[38;5;241;43m*\u001b[39;49m\u001b[43mdh_bridge_1_sim_kwargs\u001b[49m\u001b[43m)\u001b[49m\n",
      "\u001b[0;31mTypeError\u001b[0m: AuxiliaryBridge.simulate() got an unexpected keyword argument 't_start'"
     ]
    }
   ],
   "source": [
    "dh_bridge_1_sim_kwargs = {'t_start': 0.0,\n",
    "                        't_end': t_end - t_start,\n",
    "                        'x_start': x_0*np.exp(-rho*t_start),\n",
    "                        'num': 1000}\n",
    "\n",
    "dh_bridge_1_sims = dh_bridge_1.simulate(size=10, **dh_bridge_1_sim_kwargs)"
   ]
  },
  {
   "cell_type": "code",
   "execution_count": null,
   "id": "31b2225b",
   "metadata": {},
   "outputs": [],
   "source": [
    "plot_simulations(dh_bridge_1_sims);"
   ]
  },
  {
   "cell_type": "markdown",
   "id": "9308f8d8",
   "metadata": {},
   "source": [
    "The `simulate` method of an auxiliary bridge SDE is modified, so that if the simulation runs to the end point, the end point that would have been generated by the (approximate) simulation is replaced with the end point that the function should hit with probability 1. In practice, the simulations, unless modified, will not necessarily hit this end point, due to the introduction of an approximate numerical scheme."
   ]
  },
  {
   "cell_type": "markdown",
   "id": "f14f87da",
   "metadata": {},
   "source": [
    "Note: If when implementing the `simulate` method, the `t_end` parameter is set to be greater than $\\Delta t = t'' - t'$, then an `Exception` will be raised, as the drift and diffusion co-efficients of the auxiliary SDE are not defined for $t>\\Delta t$."
   ]
  },
  {
   "cell_type": "markdown",
   "id": "0f01e734",
   "metadata": {},
   "source": [
    "We now demonstrate the implementation of the $F_{t', t''}^{(DH)}(x_{t'}, x_{t''},\\quad  \\cdot  \\quad )$ function in this particular case, using the `transform_X_to_W` method on the auxiliary SDE:"
   ]
  },
  {
   "cell_type": "code",
   "execution_count": null,
   "id": "38b3bdf3",
   "metadata": {},
   "outputs": [],
   "source": [
    "transform_kwargs = {'t_start': 0.,\n",
    "                    'x_start': x_0*np.exp(-rho*t_start),\n",
    "                    'transform_end_point': True\n",
    "                   }\n",
    "\n",
    "W = dh_bridge_1.transform_X_to_W(dh_bridge_1_sims, **transform_kwargs)"
   ]
  },
  {
   "cell_type": "markdown",
   "id": "f5410d2e",
   "metadata": {},
   "source": [
    "Only the start point `x_start`, corresponding to $x_{t'}$ and the starting time `t_start`, corresponding to $t'$ need to be given, as the end point $x_{t''}$ is given when constructing the auxiliary bridge SDE, and the time interval $\\Delta t = t'' - t'$ is implied by the `dtype` of in the input simulations, thus implying the input $t''$. "
   ]
  },
  {
   "cell_type": "code",
   "execution_count": null,
   "id": "21f20ce0",
   "metadata": {},
   "outputs": [],
   "source": [
    "plot_simulations(W);"
   ]
  },
  {
   "cell_type": "markdown",
   "id": "f44e601f",
   "metadata": {},
   "source": [
    "The transformed paths resemble simulations from a Brownian motion, which would imply that the function works as intended."
   ]
  },
  {
   "cell_type": "markdown",
   "id": "12f3f6de",
   "metadata": {},
   "source": [
    "We also test the inverse transform, using the `transform_W_to_X` method:"
   ]
  },
  {
   "cell_type": "code",
   "execution_count": null,
   "id": "50bc475f",
   "metadata": {},
   "outputs": [],
   "source": [
    "transform_kwargs = {'t_start': 0.,\n",
    "                    'x_start': x_0*np.exp(-rho*t_start),\n",
    "                    'transform_end_point': True\n",
    "                   }\n",
    "\n",
    "X_1 = dh_bridge_1.transform_W_to_X(W, **transform_kwargs)"
   ]
  },
  {
   "cell_type": "code",
   "execution_count": null,
   "id": "fbe73e2e",
   "metadata": {},
   "outputs": [],
   "source": [
    "assert check_struct_array_equal(dh_bridge_1_sims, X_1)"
   ]
  },
  {
   "cell_type": "markdown",
   "id": "357b0e1b",
   "metadata": {},
   "source": [
    "# Test 2 - Auxiliary Bridge transforms for vectorised triples $(x_{i-1}, x_{i}, x_{[t_{i-1}, t_i]})$"
   ]
  },
  {
   "cell_type": "markdown",
   "id": "856f4b52",
   "metadata": {},
   "source": [
    "One of the uses of the function $F_{t', t''}^{(DH)}(x_{t'}, x_{t''},\\quad  \\cdot  \\quad )$ in an SMC algorithm, is in the simulation of particles from the kernel $P_i[dx'_i, x'_{i-1}] = P_{i, 2}[dz_{[t_{i-1}, t_i]} , x_{i-1:i}]P_{i, 1}[dx_i, x_{i-1}]$.\n",
    "\n",
    "In practice, we would have a vector of $N$ particles $x_{i-1}$, which represent the end points of the previous simulations of the path, after importance re-weighting has been applied. We would then generate a simulation of the SDE from $t_{i-1}$ to $t_i$ using an approximate numerical scheme, from the vector of different starting points. Thus, we would obtain $N$ triples of $(x_{i-1}, x_{i}, x_{[t_{i-1}, x_{t_i}]})$. Each of the pairs $(x_{i-1}, x_{i})$ represent an approximate sample from $P_{i, 1}[dx_i, x_{i-1}]$. For each of these $N$ particles, we apply the transform $F_{t_{i-1}, t_{i}}^{(DH)}(x_{i-1}, x_{i},\\quad  \\cdot  \\quad )$ to the path $x_{[t_{i-1}, x_{t_i}]}$ to obtain the approximate sample from the kernel $P_{i, 2}[dz_{[t_{i-1}, t_i]} , x_{i-1:i}]$. Thus, an implementation of $F_{t_{i-1}, t_{i}}^{(DH)}(x_{i-1}, x_{i},\\quad  \\cdot  \\quad )$ that is vectorised across different values of the triple $(x_{i-1}, x_{i}, x_{[t_{i-1}, x_{t_i}]})$ will be required to simulate from the kernel.  "
   ]
  },
  {
   "cell_type": "markdown",
   "id": "c9f73595",
   "metadata": {},
   "source": [
    "We now test this vectorised implementation below. We test it by implementing it as it would be used to simulate from the kernel $P_i[dx'_i, x'_{i-1}]$. We again work with the univariate Ornstein-Uhlenbeck process defined by the following SDE:\n",
    "\n",
    "$$dX_t = \\rho(\\mu - X_t)dt + \\phi dW_t$$\n"
   ]
  },
  {
   "cell_type": "markdown",
   "id": "1afb952a",
   "metadata": {},
   "source": [
    "We test a vectorised implementation for the implied auxiliary bridge transforms from $t_{i-1} = 1$ to $t_{i} = 2$. To generate appropriate starting points $x_{i-1}^{(j)}$, we generate simulations from the marginal distribution of SDE solution at $t_{i-1}$. This can be derived analytically, and is given by:"
   ]
  },
  {
   "cell_type": "markdown",
   "id": "c8503aa5",
   "metadata": {},
   "source": [
    "$$X_t \\sim \\mathcal{N}(x_0 e^{-\\rho t} + \\mu (1 - e^{-\\rho t}), \\frac{\\phi^2}{2\\rho} (1 - e^{-2\\rho t}))$$"
   ]
  },
  {
   "cell_type": "code",
   "execution_count": null,
   "id": "b017a0d5",
   "metadata": {},
   "outputs": [],
   "source": [
    "N = 10\n",
    "\n",
    "x_start_mean = x_0 * np.exp(-rho*t_start) + mu*(1-np.exp(-rho*t_start))\n",
    "x_start_var = 0.5 * (phi ** 2) * (1 - np.exp(-2*rho*t_start)) * (rho ** -1)\n",
    "\n",
    "x_starts = np.random.normal(loc=x_start_mean, scale=np.sqrt(x_start_var), size=N)"
   ]
  },
  {
   "cell_type": "markdown",
   "id": "d2555fed",
   "metadata": {},
   "source": [
    "We simulate $N$ sample paths from the OU SDE, from $t_{i-1} = 1$ to $t_{i} = 2$:"
   ]
  },
  {
   "cell_type": "code",
   "execution_count": null,
   "id": "4076397a",
   "metadata": {},
   "outputs": [],
   "source": [
    "ou_sim_kwargs = {'t_start': t_start,\n",
    "                 't_end': t_end,\n",
    "                 'x_start': x_starts,\n",
    "                 'num': 1000\n",
    "                 }\n",
    "\n",
    "ou_sims = ou_sde.simulate(size=N, **ou_sim_kwargs)"
   ]
  },
  {
   "cell_type": "code",
   "execution_count": null,
   "id": "68fd3c98",
   "metadata": {},
   "outputs": [],
   "source": [
    "plot_simulations(ou_sims, t_start = t_start);"
   ]
  },
  {
   "cell_type": "markdown",
   "id": "121b2bbf",
   "metadata": {},
   "source": [
    "These simulations are the vectorised triples $(x_{i-1}, x_{i}, x_{[t_{i-1}, t_i]})$ to which we need to apply a vectorised implentation of transforms $F_{t', t''}^{(DH)}(x_{t'}, x_{t''},\\quad  \\cdot  \\quad )$ to obtain approximate samples from $P_i[dx'_i, x'_{i-1}]$. We construct an auxiliary bridge SDE object that has this vectorised implementation as a method as below:"
   ]
  },
  {
   "cell_type": "code",
   "execution_count": null,
   "id": "a0646e0a",
   "metadata": {},
   "outputs": [],
   "source": [
    "ou_sims_end_pts = ou_sims['1.0']\n",
    "\n",
    "bridge_2_kwargs = {'t_start': t_start,\n",
    "                   't_end': t_end,\n",
    "                   'x_end': ou_sims_end_pts\n",
    "                   }\n",
    "\n",
    "dh_bridge_2 = DelyonHuBridge(ou_sde, **bridge_2_kwargs)"
   ]
  },
  {
   "cell_type": "markdown",
   "id": "ceb6e818",
   "metadata": {},
   "source": [
    "The constructed object `dh_bridge_2` of class `AuxiliaryBridge`, represents $N$ different auxiliary bridge SDEs. The point that the auxiliary bridge SDE hits with probability one is a part of the auxiliary SDE drift coefficient.\n",
    "\n",
    "We can generate simulations from each of these auxiliary SDEs by calling the `simulate` method as exemplified below:"
   ]
  },
  {
   "cell_type": "code",
   "execution_count": null,
   "id": "21717700",
   "metadata": {},
   "outputs": [],
   "source": [
    "dh_bridge_2_sim_kwargs = {'t_start': 0.0,\n",
    "                        't_end': t_end - t_start,\n",
    "                        'x_start': x_starts,\n",
    "                        'num': 1000}\n",
    "\n",
    "dh_bridge_2_sims = dh_bridge_2.simulate(size=N, **dh_bridge_2_sim_kwargs)"
   ]
  },
  {
   "cell_type": "markdown",
   "id": "8398b7ad",
   "metadata": {},
   "source": [
    "The `xstarts` key word argument input is in this case a vector, which corresponds to starting points of the OU SDE simulations $x_{i-1}^{(j)}$."
   ]
  },
  {
   "cell_type": "code",
   "execution_count": null,
   "id": "8be064f8",
   "metadata": {},
   "outputs": [],
   "source": [
    "plot_simulations(dh_bridge_2_sims);"
   ]
  },
  {
   "cell_type": "markdown",
   "id": "d04502ef",
   "metadata": {},
   "source": [
    "The vectorised implementation of the transforms $F_{t', t''}^{(DH)}(x_{t'}, x_{t''},\\quad  \\cdot  \\quad )$ for each of the $N$ auxiliary SDEs can be implemented via the `transform_X_to_W` method:"
   ]
  },
  {
   "cell_type": "code",
   "execution_count": null,
   "id": "0f7284aa",
   "metadata": {},
   "outputs": [],
   "source": [
    "transform_kwargs = {'t_start': 0.,\n",
    "                    'x_start': x_starts,\n",
    "                    'transform_end_point': False\n",
    "                   }\n",
    "\n",
    "Z = dh_bridge_2.transform_X_to_W(ou_sims, **transform_kwargs)\n",
    "W = dh_bridge_2.transform_X_to_W(dh_bridge_2_sims, **transform_kwargs)"
   ]
  },
  {
   "cell_type": "markdown",
   "id": "cdde7a00",
   "metadata": {},
   "source": [
    "These transforms, when applied to the simulations from the $N$ auxiliary bridges, will output simulations from the standard Brownian motion. When applied to the path component of the triples $(x_{i-1}, x_{i}, x_{[t_{i-1}, t_i]})$, we will recover approximate simulations from the kernel $P_{i, 2}[dz_{[t_{i-1}, t_i]} , x_{i-1:i}]$"
   ]
  },
  {
   "cell_type": "markdown",
   "id": "4297470e",
   "metadata": {},
   "source": [
    "Note that the `transform_end_point` key word argument is set to `False` - this is important for the purpose of generating simulations from the kernel $P_i[dx'_i, x'_{i-1}]$, as the end points $x_i$ need to be retained."
   ]
  },
  {
   "cell_type": "markdown",
   "id": "ddb5b148",
   "metadata": {},
   "source": [
    "We plot the simulations from the path component of the simulations from $P_i[dx'_i, x'_{i-1}]$ below:"
   ]
  },
  {
   "cell_type": "code",
   "execution_count": null,
   "id": "f735f2bf",
   "metadata": {},
   "outputs": [],
   "source": [
    "plot_simulations(Z, end_point=False);"
   ]
  },
  {
   "cell_type": "markdown",
   "id": "003688f7",
   "metadata": {},
   "source": [
    "Each of these paths have been simulated from different distributions, but the distributions of each of these paths are absolutely integrable with respect to the Weiner measure."
   ]
  },
  {
   "cell_type": "markdown",
   "id": "667df1f6",
   "metadata": {},
   "source": [
    "We additionally plot the simulations from the transforms applied to the simulations from the $N$ auxiliary bridges below:"
   ]
  },
  {
   "cell_type": "code",
   "execution_count": null,
   "id": "e6881fc1",
   "metadata": {},
   "outputs": [],
   "source": [
    "plot_simulations(W, end_point=False);"
   ]
  },
  {
   "cell_type": "markdown",
   "id": "1f0ad7be",
   "metadata": {},
   "source": [
    "These simulated paths should all have the same distribution, which is the Weiner measure. The plotted simulations above reflect this."
   ]
  },
  {
   "cell_type": "markdown",
   "id": "4533f797",
   "metadata": {},
   "source": [
    "Finally, we test the inverse of the vectorised transform, which can be implemented with the method `transform_W_to_X`:"
   ]
  },
  {
   "cell_type": "code",
   "execution_count": null,
   "id": "c73a7cb8",
   "metadata": {},
   "outputs": [],
   "source": [
    "transform_kwargs = {'t_start': 0.,\n",
    "                    'x_start': x_starts,\n",
    "                    'transform_end_point': False\n",
    "                   }\n",
    "\n",
    "X_2 = dh_bridge_2.transform_W_to_X(W, **transform_kwargs)\n",
    "X_tilde = dh_bridge_2.transform_W_to_X(Z, **transform_kwargs)"
   ]
  },
  {
   "cell_type": "markdown",
   "id": "03cd9c3b",
   "metadata": {},
   "source": [
    "We then verify that both in the case of the simulations from the OU SDE and in the case of the simulations from the auxiliary bridge processes, that applying the vectorised transform, followed by its inverse, returns the original paths:"
   ]
  },
  {
   "cell_type": "code",
   "execution_count": null,
   "id": "5d436f7a",
   "metadata": {},
   "outputs": [],
   "source": [
    "assert check_struct_array_equal(dh_bridge_2_sims, X_2)\n",
    "assert check_struct_array_equal(ou_sims, X_tilde)"
   ]
  }
 ],
 "metadata": {
  "kernelspec": {
   "display_name": "general",
   "language": "python",
   "name": "general"
  },
  "language_info": {
   "codemirror_mode": {
    "name": "ipython",
    "version": 3
   },
   "file_extension": ".py",
   "mimetype": "text/x-python",
   "name": "python",
   "nbconvert_exporter": "python",
   "pygments_lexer": "ipython3",
   "version": "3.11.4"
  }
 },
 "nbformat": 4,
 "nbformat_minor": 5
}
